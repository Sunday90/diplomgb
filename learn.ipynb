{
 "cells": [
  {
   "cell_type": "code",
   "execution_count": 43,
   "id": "360a5aef-a0ed-499e-9610-556e24d69c50",
   "metadata": {},
   "outputs": [],
   "source": [
    "from sklearn.feature_extraction.text import TfidfVectorizer\n",
    "from sklearn.linear_model import LogisticRegression\n",
    "from sklearn.model_selection import train_test_split\n",
    "from sklearn.metrics import f1_score\n",
    "from sklearn.utils import shuffle\n",
    "\n",
    "import pandas as pd\n",
    "import numpy as np"
   ]
  },
  {
   "cell_type": "code",
   "execution_count": 44,
   "id": "0c4f01e9-de8b-4f40-9d68-cfee8c99d35c",
   "metadata": {},
   "outputs": [],
   "source": [
    "reviews = pd.read_csv('reviews-and-ratings.csv', engine='python', encoding='utf-8', on_bad_lines='skip')\n",
    "reviews.dropna(subset=['text', 'rating'], inplace=True)"
   ]
  },
  {
   "cell_type": "code",
   "execution_count": 45,
   "id": "994d8c9f-945f-45fc-b34d-bf32a8541d77",
   "metadata": {},
   "outputs": [
    {
     "data": {
      "text/html": [
       "<div>\n",
       "<style scoped>\n",
       "    .dataframe tbody tr th:only-of-type {\n",
       "        vertical-align: middle;\n",
       "    }\n",
       "\n",
       "    .dataframe tbody tr th {\n",
       "        vertical-align: top;\n",
       "    }\n",
       "\n",
       "    .dataframe thead th {\n",
       "        text-align: right;\n",
       "    }\n",
       "</style>\n",
       "<table border=\"1\" class=\"dataframe\">\n",
       "  <thead>\n",
       "    <tr style=\"text-align: right;\">\n",
       "      <th></th>\n",
       "      <th>text</th>\n",
       "      <th>rating</th>\n",
       "    </tr>\n",
       "  </thead>\n",
       "  <tbody>\n",
       "    <tr>\n",
       "      <th>0</th>\n",
       "      <td>Парфюм оригинальный. Всё, как в профессиональн...</td>\n",
       "      <td>5</td>\n",
       "    </tr>\n",
       "    <tr>\n",
       "      <th>1</th>\n",
       "      <td>Мой любимый DKNY. Запах просто шикарный. Спаси...</td>\n",
       "      <td>5</td>\n",
       "    </tr>\n",
       "    <tr>\n",
       "      <th>4</th>\n",
       "      <td>Запах просто классный, как раз то, что мне нуж...</td>\n",
       "      <td>4</td>\n",
       "    </tr>\n",
       "    <tr>\n",
       "      <th>5</th>\n",
       "      <td>Парфюм хороший, оригинал! Магазин Parfum-Shop-...</td>\n",
       "      <td>5</td>\n",
       "    </tr>\n",
       "    <tr>\n",
       "      <th>6</th>\n",
       "      <td>Доставка работает супер!</td>\n",
       "      <td>5</td>\n",
       "    </tr>\n",
       "  </tbody>\n",
       "</table>\n",
       "</div>"
      ],
      "text/plain": [
       "                                                text  rating\n",
       "0  Парфюм оригинальный. Всё, как в профессиональн...       5\n",
       "1  Мой любимый DKNY. Запах просто шикарный. Спаси...       5\n",
       "4  Запах просто классный, как раз то, что мне нуж...       4\n",
       "5  Парфюм хороший, оригинал! Магазин Parfum-Shop-...       5\n",
       "6                           Доставка работает супер!       5"
      ]
     },
     "execution_count": 45,
     "metadata": {},
     "output_type": "execute_result"
    }
   ],
   "source": [
    "reviews.head()"
   ]
  },
  {
   "cell_type": "code",
   "execution_count": 46,
   "id": "0d303688-f948-4630-82cd-c34ba96a80ab",
   "metadata": {},
   "outputs": [
    {
     "data": {
      "text/plain": [
       "<Axes: >"
      ]
     },
     "execution_count": 46,
     "metadata": {},
     "output_type": "execute_result"
    },
    {
     "data": {
      "image/png": "[encoded data removed]",
      "text/plain": [
       "<Figure size 640x480 with 1 Axes>"
      ]
     },
     "metadata": {},
     "output_type": "display_data"
    }
   ],
   "source": [
    "reviews['rating'].hist()"
   ]
  },
  {
   "cell_type": "code",
   "execution_count": 47,
   "id": "d235c6ec-5842-4bab-9284-9caf3c530ae8",
   "metadata": {},
   "outputs": [],
   "source": [
    "labeled_reviews, unlabeled_reviews = train_test_split(reviews, train_size=0.2, random_state=56)"
   ]
  },
  {
   "cell_type": "code",
   "execution_count": 48,
   "id": "53417332-6990-4b54-a9da-ef97269b2ba0",
   "metadata": {},
   "outputs": [
    {
     "data": {
      "text/html": [
       "<div>\n",
       "<style scoped>\n",
       "    .dataframe tbody tr th:only-of-type {\n",
       "        vertical-align: middle;\n",
       "    }\n",
       "\n",
       "    .dataframe tbody tr th {\n",
       "        vertical-align: top;\n",
       "    }\n",
       "\n",
       "    .dataframe thead th {\n",
       "        text-align: right;\n",
       "    }\n",
       "</style>\n",
       "<table border=\"1\" class=\"dataframe\">\n",
       "  <thead>\n",
       "    <tr style=\"text-align: right;\">\n",
       "      <th></th>\n",
       "      <th>text</th>\n",
       "      <th>rating</th>\n",
       "    </tr>\n",
       "  </thead>\n",
       "  <tbody>\n",
       "    <tr>\n",
       "      <th>6436</th>\n",
       "      <td>Купил сыну, очень нравится</td>\n",
       "      <td>5</td>\n",
       "    </tr>\n",
       "    <tr>\n",
       "      <th>7030</th>\n",
       "      <td>Телефон очень удобный!</td>\n",
       "      <td>4</td>\n",
       "    </tr>\n",
       "    <tr>\n",
       "      <th>601</th>\n",
       "      <td>Все понравилось. Доставили быстро.</td>\n",
       "      <td>5</td>\n",
       "    </tr>\n",
       "    <tr>\n",
       "      <th>4001</th>\n",
       "      <td>Мне нравится Huawei, он у меня не первый.</td>\n",
       "      <td>5</td>\n",
       "    </tr>\n",
       "    <tr>\n",
       "      <th>2556</th>\n",
       "      <td>Тот самый, мой любимый аромат.</td>\n",
       "      <td>5</td>\n",
       "    </tr>\n",
       "  </tbody>\n",
       "</table>\n",
       "</div>"
      ],
      "text/plain": [
       "                                           text  rating\n",
       "6436                 Купил сыну, очень нравится       5\n",
       "7030                     Телефон очень удобный!       4\n",
       "601          Все понравилось. Доставили быстро.       5\n",
       "4001  Мне нравится Huawei, он у меня не первый.       5\n",
       "2556             Тот самый, мой любимый аромат.       5"
      ]
     },
     "execution_count": 48,
     "metadata": {},
     "output_type": "execute_result"
    }
   ],
   "source": [
    "labeled_reviews.head()"
   ]
  },
  {
   "cell_type": "code",
   "execution_count": 49,
   "id": "e53b4c2a-92c6-4754-81a8-f8a2de23592e",
   "metadata": {},
   "outputs": [],
   "source": [
    "def train_model(labeled_data, vect=None):\n",
    "    if vect is None:\n",
    "        vect = TfidfVectorizer()\n",
    "        x = vect.fit_transform(labeled_data['text'])\n",
    "    else:\n",
    "        x = vect.transform(labeled_data['text'])\n",
    "        \n",
    "    y = labeled_data['rating']\n",
    "    model = LogisticRegression()\n",
    "    model.fit(x,y)\n",
    "    return model, vect\n",
    "\n",
    "model, vect = train_model(labeled_reviews)"
   ]
  },
  {
   "cell_type": "code",
   "execution_count": 50,
   "id": "1f16bf17-05c1-4b71-a277-543eaa39dc90",
   "metadata": {},
   "outputs": [],
   "source": [
    "x_unlabeled = vect.transform(unlabeled_reviews['text'])\n",
    "y_unlabeled_predicted = model.predict(x_unlabeled)"
   ]
  },
  {
   "cell_type": "code",
   "execution_count": 51,
   "id": "af98651b-5aaf-49a4-9104-334bfc73be32",
   "metadata": {},
   "outputs": [],
   "source": [
    "y_unlabeled_proba = model.predict_proba(x_unlabeled)\n",
    "uncertainly = -(y_unlabeled_proba * np.log2(y_unlabeled_proba)).sum(axis=1)"
   ]
  },
  {
   "cell_type": "code",
   "execution_count": 52,
   "id": "1de0a591-abfc-4983-9511-727c1f0da08a",
   "metadata": {},
   "outputs": [
    {
     "data": {
      "text/plain": [
       "array([1.42288727, 0.71178131, 0.46833177, ..., 0.99358308, 0.74279008,\n",
       "       0.57545489])"
      ]
     },
     "execution_count": 52,
     "metadata": {},
     "output_type": "execute_result"
    }
   ],
   "source": [
    "uncertainly"
   ]
  },
  {
   "cell_type": "code",
   "execution_count": 53,
   "id": "3052b5be-a03b-4881-ba4e-2a64536758cc",
   "metadata": {},
   "outputs": [],
   "source": [
    "labeled_reviews_new = unlabeled_reviews.iloc[uncertainly.argsort()[:100]]\n",
    "unlabeled_reviews_new = unlabeled_reviews.iloc[uncertainly.argsort()[100:]]"
   ]
  },
  {
   "cell_type": "code",
   "execution_count": 54,
   "id": "35e2599f-4d22-4389-b013-c6c76531e3dd",
   "metadata": {},
   "outputs": [
    {
     "data": {
      "text/html": [
       "<div>\n",
       "<style scoped>\n",
       "    .dataframe tbody tr th:only-of-type {\n",
       "        vertical-align: middle;\n",
       "    }\n",
       "\n",
       "    .dataframe tbody tr th {\n",
       "        vertical-align: top;\n",
       "    }\n",
       "\n",
       "    .dataframe thead th {\n",
       "        text-align: right;\n",
       "    }\n",
       "</style>\n",
       "<table border=\"1\" class=\"dataframe\">\n",
       "  <thead>\n",
       "    <tr style=\"text-align: right;\">\n",
       "      <th></th>\n",
       "      <th>text</th>\n",
       "      <th>rating</th>\n",
       "    </tr>\n",
       "  </thead>\n",
       "  <tbody>\n",
       "    <tr>\n",
       "      <th>6138</th>\n",
       "      <td>Отличный телефон, просто супер</td>\n",
       "      <td>5</td>\n",
       "    </tr>\n",
       "    <tr>\n",
       "      <th>4672</th>\n",
       "      <td>Отличный телефон, просто супер.</td>\n",
       "      <td>5</td>\n",
       "    </tr>\n",
       "    <tr>\n",
       "      <th>7674</th>\n",
       "      <td>Отличный телефон, супер!</td>\n",
       "      <td>5</td>\n",
       "    </tr>\n",
       "    <tr>\n",
       "      <th>7492</th>\n",
       "      <td>Отличный телефон. Супер</td>\n",
       "      <td>5</td>\n",
       "    </tr>\n",
       "    <tr>\n",
       "      <th>1618</th>\n",
       "      <td>Аромат супер, мне очень понравилось. Спасибо, ...</td>\n",
       "      <td>5</td>\n",
       "    </tr>\n",
       "    <tr>\n",
       "      <th>...</th>\n",
       "      <td>...</td>\n",
       "      <td>...</td>\n",
       "    </tr>\n",
       "    <tr>\n",
       "      <th>7774</th>\n",
       "      <td>Телефон просто супер!</td>\n",
       "      <td>4</td>\n",
       "    </tr>\n",
       "    <tr>\n",
       "      <th>6193</th>\n",
       "      <td>Телефон просто супер</td>\n",
       "      <td>5</td>\n",
       "    </tr>\n",
       "    <tr>\n",
       "      <th>5439</th>\n",
       "      <td>Телефон просто супер!</td>\n",
       "      <td>5</td>\n",
       "    </tr>\n",
       "    <tr>\n",
       "      <th>9067</th>\n",
       "      <td>Телефон просто супер</td>\n",
       "      <td>5</td>\n",
       "    </tr>\n",
       "    <tr>\n",
       "      <th>6690</th>\n",
       "      <td>Телефон просто супер</td>\n",
       "      <td>5</td>\n",
       "    </tr>\n",
       "  </tbody>\n",
       "</table>\n",
       "<p>100 rows × 2 columns</p>\n",
       "</div>"
      ],
      "text/plain": [
       "                                                   text  rating\n",
       "6138                     Отличный телефон, просто супер       5\n",
       "4672                    Отличный телефон, просто супер.       5\n",
       "7674                           Отличный телефон, супер!       5\n",
       "7492                            Отличный телефон. Супер       5\n",
       "1618  Аромат супер, мне очень понравилось. Спасибо, ...       5\n",
       "...                                                 ...     ...\n",
       "7774                              Телефон просто супер!       4\n",
       "6193                               Телефон просто супер       5\n",
       "5439                              Телефон просто супер!       5\n",
       "9067                               Телефон просто супер       5\n",
       "6690                               Телефон просто супер       5\n",
       "\n",
       "[100 rows x 2 columns]"
      ]
     },
     "execution_count": 54,
     "metadata": {},
     "output_type": "execute_result"
    }
   ],
   "source": [
    "labeled_reviews_new"
   ]
  },
  {
   "cell_type": "code",
   "execution_count": 55,
   "id": "3ff91e1f-1290-46aa-8ccf-3121d4ad61b5",
   "metadata": {},
   "outputs": [],
   "source": [
    "labeled_marks = pd.concat([labeled_reviews, labeled_reviews_new])"
   ]
  },
  {
   "cell_type": "code",
   "execution_count": 56,
   "id": "657444e2-19ff-44fd-86bb-98f3d6e8fb89",
   "metadata": {},
   "outputs": [],
   "source": [
    "model, vect = train_model(labeled_marks, vect)"
   ]
  },
  {
   "cell_type": "code",
   "execution_count": 57,
   "id": "acca2dcd-e239-4d2b-a28b-a21c2fbf5255",
   "metadata": {},
   "outputs": [],
   "source": [
    "marks_test = unlabeled_reviews"
   ]
  },
  {
   "cell_type": "code",
   "execution_count": 58,
   "id": "0c38c060-97ed-46f9-8cfa-469fe5742805",
   "metadata": {},
   "outputs": [
    {
     "name": "stdout",
     "output_type": "stream",
     "text": [
      "Number of features in training set: 2323\n",
      "Number of features in unlabeled set: 2323\n"
     ]
    }
   ],
   "source": [
    "   print(f\"Number of features in training set: {model.n_features_in_}\")\n",
    "   print(f\"Number of features in unlabeled set: {x_unlabeled.shape[1]}\")"
   ]
  },
  {
   "cell_type": "code",
   "execution_count": 59,
   "id": "fd93f153-5bd8-41a5-8ec7-256e6e915a8b",
   "metadata": {},
   "outputs": [],
   "source": [
    "x_test = vect.transform(marks_test['text'])\n",
    "\n",
    "y_test_predicted = model.predict(x_test)"
   ]
  },
  {
   "cell_type": "code",
   "execution_count": 60,
   "id": "f58c68e8-d8ba-42da-b4fd-977843c0ca9f",
   "metadata": {},
   "outputs": [
    {
     "name": "stdout",
     "output_type": "stream",
     "text": [
      "                                                   text  rating\n",
      "3461  В целом довольна, а на эти минусы можно закрыт...       5\n",
      "6173                                 Күшті, бізге ұнады       5\n",
      "3351                    Всем советую, хороший смартфон.       5\n",
      "5350                                  Телефон өте жақсы       5\n",
      "3641                      Понравились подарочные бонусы       5\n",
      "...                                                 ...     ...\n",
      "8626                     Все соответствует по описанию.       3\n",
      "1492  Запах великолепный. Пользуюсь уже немало време...       5\n",
      "7640  Стоит дважды подумать перед покупкой этого апп...       5\n",
      "6862                          Вполне стоит своих денег.       5\n",
      "5423                                            Хороший       5\n",
      "\n",
      "[3640 rows x 2 columns]\n",
      "[5 5 5 ... 5 5 5]\n"
     ]
    }
   ],
   "source": [
    "print (marks_test)\n",
    "print(y_test_predicted)"
   ]
  },
  {
   "cell_type": "code",
   "execution_count": 61,
   "id": "a9284032-9e88-43b4-a62b-20a4d65496bd",
   "metadata": {},
   "outputs": [
    {
     "data": {
      "text/plain": [
       "0.8031386581822134"
      ]
     },
     "execution_count": 61,
     "metadata": {},
     "output_type": "execute_result"
    }
   ],
   "source": [
    "f1 = f1_score(marks_test['rating'], y_test_predicted, average='weighted')\n",
    "f1"
   ]
  }
 ],
 "metadata": {
  "kernelspec": {
   "display_name": "Python [conda env:base] *",
   "language": "python",
   "name": "conda-base-py"
  },
  "language_info": {
   "codemirror_mode": {
    "name": "ipython",
    "version": 3
   },
   "file_extension": ".py",
   "mimetype": "text/x-python",
   "name": "python",
   "nbconvert_exporter": "python",
   "pygments_lexer": "ipython3",
   "version": "3.13.5"
  }
 },
 "nbformat": 4,
 "nbformat_minor": 5
}
