{
 "cells": [
  {
   "cell_type": "code",
   "execution_count": 1,
   "id": "b19ca5c0-5e30-4fca-ab7a-7da4c9016da6",
   "metadata": {},
   "outputs": [
    {
     "name": "stdout",
     "output_type": "stream",
     "text": [
      "Requirement already satisfied: selenium in c:\\users\\user\\anaconda3\\lib\\site-packages (4.34.2)\n",
      "Requirement already satisfied: pandas in c:\\users\\user\\anaconda3\\lib\\site-packages (2.2.3)\n",
      "Requirement already satisfied: webdriver-manager in c:\\users\\user\\anaconda3\\lib\\site-packages (4.0.2)\n",
      "Requirement already satisfied: urllib3~=2.5.0 in c:\\users\\user\\anaconda3\\lib\\site-packages (from urllib3[socks]~=2.5.0->selenium) (2.5.0)\n",
      "Requirement already satisfied: trio~=0.30.0 in c:\\users\\user\\anaconda3\\lib\\site-packages (from selenium) (0.30.0)\n",
      "Requirement already satisfied: trio-websocket~=0.12.2 in c:\\users\\user\\anaconda3\\lib\\site-packages (from selenium) (0.12.2)\n",
      "Requirement already satisfied: certifi>=2025.6.15 in c:\\users\\user\\anaconda3\\lib\\site-packages (from selenium) (2025.6.15)\n",
      "Requirement already satisfied: typing_extensions~=4.14.0 in c:\\users\\user\\anaconda3\\lib\\site-packages (from selenium) (4.14.1)\n",
      "Requirement already satisfied: websocket-client~=1.8.0 in c:\\users\\user\\anaconda3\\lib\\site-packages (from selenium) (1.8.0)\n",
      "Requirement already satisfied: attrs>=23.2.0 in c:\\users\\user\\anaconda3\\lib\\site-packages (from trio~=0.30.0->selenium) (24.3.0)\n",
      "Requirement already satisfied: sortedcontainers in c:\\users\\user\\anaconda3\\lib\\site-packages (from trio~=0.30.0->selenium) (2.4.0)\n",
      "Requirement already satisfied: idna in c:\\users\\user\\anaconda3\\lib\\site-packages (from trio~=0.30.0->selenium) (3.7)\n",
      "Requirement already satisfied: outcome in c:\\users\\user\\anaconda3\\lib\\site-packages (from trio~=0.30.0->selenium) (1.3.0.post0)\n",
      "Requirement already satisfied: sniffio>=1.3.0 in c:\\users\\user\\anaconda3\\lib\\site-packages (from trio~=0.30.0->selenium) (1.3.0)\n",
      "Requirement already satisfied: cffi>=1.14 in c:\\users\\user\\anaconda3\\lib\\site-packages (from trio~=0.30.0->selenium) (1.17.1)\n",
      "Requirement already satisfied: wsproto>=0.14 in c:\\users\\user\\anaconda3\\lib\\site-packages (from trio-websocket~=0.12.2->selenium) (1.2.0)\n",
      "Requirement already satisfied: pysocks!=1.5.7,<2.0,>=1.5.6 in c:\\users\\user\\anaconda3\\lib\\site-packages (from urllib3[socks]~=2.5.0->selenium) (1.7.1)\n",
      "Requirement already satisfied: numpy>=1.26.0 in c:\\users\\user\\anaconda3\\lib\\site-packages (from pandas) (2.1.3)\n",
      "Requirement already satisfied: python-dateutil>=2.8.2 in c:\\users\\user\\anaconda3\\lib\\site-packages (from pandas) (2.9.0.post0)\n",
      "Requirement already satisfied: pytz>=2020.1 in c:\\users\\user\\anaconda3\\lib\\site-packages (from pandas) (2024.1)\n",
      "Requirement already satisfied: tzdata>=2022.7 in c:\\users\\user\\anaconda3\\lib\\site-packages (from pandas) (2025.2)\n",
      "Requirement already satisfied: requests in c:\\users\\user\\anaconda3\\lib\\site-packages (from webdriver-manager) (2.32.3)\n",
      "Requirement already satisfied: python-dotenv in c:\\users\\user\\anaconda3\\lib\\site-packages (from webdriver-manager) (1.1.0)\n",
      "Requirement already satisfied: packaging in c:\\users\\user\\anaconda3\\lib\\site-packages (from webdriver-manager) (24.2)\n",
      "Requirement already satisfied: pycparser in c:\\users\\user\\anaconda3\\lib\\site-packages (from cffi>=1.14->trio~=0.30.0->selenium) (2.21)\n",
      "Requirement already satisfied: six>=1.5 in c:\\users\\user\\anaconda3\\lib\\site-packages (from python-dateutil>=2.8.2->pandas) (1.17.0)\n",
      "Requirement already satisfied: h11<1,>=0.9.0 in c:\\users\\user\\anaconda3\\lib\\site-packages (from wsproto>=0.14->trio-websocket~=0.12.2->selenium) (0.16.0)\n",
      "Requirement already satisfied: charset-normalizer<4,>=2 in c:\\users\\user\\anaconda3\\lib\\site-packages (from requests->webdriver-manager) (3.3.2)\n"
     ]
    }
   ],
   "source": [
    "!pip install selenium pandas webdriver-manager"
   ]
  },
  {
   "cell_type": "code",
   "execution_count": 2,
   "id": "95946423-ff9b-45a9-ab6f-ea41c593efd9",
   "metadata": {},
   "outputs": [],
   "source": [
    "from selenium import webdriver\n",
    "from selenium.webdriver.common.by import By\n",
    "from selenium.webdriver.chrome.service import Service\n",
    "from selenium.webdriver.support.ui import WebDriverWait\n",
    "from selenium.webdriver.support import expected_conditions as EC\n",
    "from selenium.common.exceptions import StaleElementReferenceException\n",
    "from webdriver_manager.chrome import ChromeDriverManager\n",
    "import pandas as pd\n",
    "import time"
   ]
  },
  {
   "cell_type": "code",
   "execution_count": 3,
   "id": "f9c806a1-20f5-44e8-9ca7-a6e24efaf731",
   "metadata": {},
   "outputs": [],
   "source": [
    "options = webdriver.ChromeOptions()\n",
    "#options.add_argument('--headless')\n",
    "driver = webdriver.Chrome(service=Service(ChromeDriverManager().install()), options=options)"
   ]
  },
  {
   "cell_type": "code",
   "execution_count": 4,
   "id": "812c425f-349e-4121-9932-b4b9663d34f0",
   "metadata": {},
   "outputs": [],
   "source": [
    "def get_reviews(product_url):\n",
    "    driver.get(product_url)\n",
    "    WebDriverWait(driver, 10).until(EC.presence_of_element_located((By.CLASS_NAME, 'reviewTitle')))\n",
    "    \n",
    "    reviews = []\n",
    "    ratings = []\n",
    "    \n",
    "    review_elements = driver.find_elements(By.CLASS_NAME, 'reviewTitle')\n",
    "    rating_elements = driver.find_elements(By.CLASS_NAME, 'fivestarWidgetStatic-vote')\n",
    "\n",
    "    for review, rating in zip(review_elements, rating_elements):\n",
    "        review_text = review.text\n",
    "        stars = rating.find_elements(By.CLASS_NAME, 'on')\n",
    "        rating_score = len(stars)  \n",
    "        \n",
    "        reviews.append(review_text)\n",
    "        ratings.append(rating_score)\n",
    "\n",
    "    return reviews, ratings"
   ]
  },
  {
   "cell_type": "code",
   "execution_count": 5,
   "id": "edc6bdcb-8a08-4485-accd-d0cb8dca3cc0",
   "metadata": {},
   "outputs": [
    {
     "name": "stdout",
     "output_type": "stream",
     "text": [
      "Сбор отзывов завершен. Данные сохранены в reviews_and_ratings.csv.\n"
     ]
    }
   ],
   "source": [
    "all_reviews = []\n",
    "all_ratings = []\n",
    "\n",
    "home_page_url = 'https://irecommend.ru/catalog/list/937'\n",
    "driver.get(home_page_url)\n",
    "\n",
    "for page in range(70): \n",
    "    products = driver.find_elements(By.CLASS_NAME, 'ProductTizer')\n",
    "\n",
    "    wait = WebDriverWait(driver, 10)\n",
    "\n",
    "for product in products:\n",
    "    try:\n",
    "        title_element = wait.until(EC.presence_of_element_located((By.CLASS_NAME, 'title')))\n",
    "        product_link = title_element.find_element(By.TAG_NAME, 'a').get_attribute('href')\n",
    "        reviews, ratings = get_reviews(product_link)\n",
    "        all_reviews.extend(reviews)\n",
    "        all_ratings.extend(ratings)\n",
    "        print(all_reviews)\n",
    "        print(f\"PAGE! {page}\")\n",
    "    except StaleElementReferenceException:\n",
    "        \n",
    "        print(\"Error!\")\n",
    "\n",
    "        \n",
    "    \n",
    "    driver.get(home_page_url)\n",
    "    next_page_button = driver.find_element(By.XPATH, '//a[@title=\"На страницу номер {}\"]'.format(page + 2))\n",
    "    next_page_button.click()\n",
    "    WebDriverWait(driver, 10).until(EC.presence_of_element_located((By.CLASS_NAME, 'ProductTizer')))\n",
    "\n",
    "driver.quit()\n",
    "\n",
    "\n",
    "formatted_reviews = [f'\"{review}\"' for review in all_reviews]\n",
    "formatted_ratings = [f'{rating:.1f}' for rating in all_ratings]\n",
    "\n",
    "df = pd.DataFrame({'text': formatted_reviews, 'rating': formatted_ratings})\n",
    "df.to_csv('reviews_and_ratings.csv', index=False)\n",
    "\n",
    "print(\"Данные выгружены\")"
   ]
  }
 ],
 "metadata": {
  "kernelspec": {
   "display_name": "Python [conda env:base] *",
   "language": "python",
   "name": "conda-base-py"
  },
  "language_info": {
   "codemirror_mode": {
    "name": "ipython",
    "version": 3
   },
   "file_extension": ".py",
   "mimetype": "text/x-python",
   "name": "python",
   "nbconvert_exporter": "python",
   "pygments_lexer": "ipython3",
   "version": "3.13.5"
  }
 },
 "nbformat": 4,
 "nbformat_minor": 5
}
